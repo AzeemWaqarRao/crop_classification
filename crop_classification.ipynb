{
  "nbformat": 4,
  "nbformat_minor": 0,
  "metadata": {
    "colab": {
      "provenance": []
    },
    "kernelspec": {
      "name": "python3",
      "display_name": "Python 3"
    },
    "language_info": {
      "name": "python"
    },
    "accelerator": "GPU",
    "gpuClass": "standard"
  },
  "cells": [
    {
      "cell_type": "code",
      "source": [],
      "metadata": {
        "id": "ozZHQMU1HRIs"
      },
      "execution_count": null,
      "outputs": []
    },
    {
      "cell_type": "markdown",
      "source": [
        "Imports\n"
      ],
      "metadata": {
        "id": "sEoffY4DHKtk"
      }
    },
    {
      "cell_type": "code",
      "execution_count": 2,
      "metadata": {
        "id": "RNCiQz7uyJYq"
      },
      "outputs": [],
      "source": [
        "from tensorflow.keras.models import Model, Sequential, load_model\n",
        "from tensorflow.keras.layers import Dense, Flatten, Dropout, MaxPooling2D,Conv2D\n",
        "from tensorflow.keras.preprocessing.image import ImageDataGenerator\n",
        "from tensorflow.keras.applications.vgg16 import VGG16, preprocess_input\n",
        "import numpy as np\n",
        "from sklearn.metrics import classification_report, confusion_matrix"
      ]
    },
    {
      "cell_type": "markdown",
      "source": [
        "# Preparing Data\n",
        "Here i did not do train test split as the data was insufficent\n",
        "\n"
      ],
      "metadata": {
        "id": "ZEQce24nHIF-"
      }
    },
    {
      "cell_type": "code",
      "source": [
        "data_gen = ImageDataGenerator(\n",
        "    samplewise_std_normalization=True,\n",
        "    width_shift_range=0.3,\n",
        "    height_shift_range=0.3,\n",
        "    shear_range=0.3,\n",
        "    zoom_range=0.3,\n",
        "    horizontal_flip=True,\n",
        "    rescale=1./255,  \n",
        ")"
      ],
      "metadata": {
        "colab": {
          "base_uri": "https://localhost:8080/"
        },
        "id": "PczVWycAyPpW",
        "outputId": "889486fd-77f0-44dd-91cf-ac88dfde9cc8"
      },
      "execution_count": 3,
      "outputs": [
        {
          "output_type": "stream",
          "name": "stderr",
          "text": [
            "/usr/local/lib/python3.9/dist-packages/keras/preprocessing/image.py:1469: UserWarning: This ImageDataGenerator specifies `samplewise_std_normalization`, which overrides setting of `samplewise_center`.\n",
            "  warnings.warn(\n"
          ]
        }
      ]
    },
    {
      "cell_type": "code",
      "source": [
        "training_data = data_gen.flow_from_directory(\"/content/drive/MyDrive/Agricultural-crops\",\n",
        "                                             target_size=(196, 196),\n",
        "                                              batch_size=32,\n",
        "                                              class_mode = \"categorical\",\n",
        "                                              )"
      ],
      "metadata": {
        "colab": {
          "base_uri": "https://localhost:8080/"
        },
        "id": "bheV8nndygQi",
        "outputId": "d20d450c-c085-42d4-f8b5-0fd369cb1323"
      },
      "execution_count": 10,
      "outputs": [
        {
          "output_type": "stream",
          "name": "stdout",
          "text": [
            "Found 829 images belonging to 30 classes.\n"
          ]
        }
      ]
    },
    {
      "cell_type": "markdown",
      "source": [
        "Getting Classes with Labels\n"
      ],
      "metadata": {
        "id": "VDBYE-qAHilh"
      }
    },
    {
      "cell_type": "code",
      "source": [
        "training_data.class_indices"
      ],
      "metadata": {
        "colab": {
          "base_uri": "https://localhost:8080/"
        },
        "id": "zkfYFjHnys0x",
        "outputId": "7877429f-4c62-43c0-a88e-de42b42dda17"
      },
      "execution_count": 11,
      "outputs": [
        {
          "output_type": "execute_result",
          "data": {
            "text/plain": [
              "{'Cherry': 0,\n",
              " 'Coffee-plant': 1,\n",
              " 'Cucumber': 2,\n",
              " 'Fox_nut(Makhana)': 3,\n",
              " 'Lemon': 4,\n",
              " 'Olive-tree': 5,\n",
              " 'Pearl_millet(bajra)': 6,\n",
              " 'Tobacco-plant': 7,\n",
              " 'almond': 8,\n",
              " 'banana': 9,\n",
              " 'cardamom': 10,\n",
              " 'chilli': 11,\n",
              " 'clove': 12,\n",
              " 'coconut': 13,\n",
              " 'cotton': 14,\n",
              " 'gram': 15,\n",
              " 'jowar': 16,\n",
              " 'jute': 17,\n",
              " 'maize': 18,\n",
              " 'mustard-oil': 19,\n",
              " 'papaya': 20,\n",
              " 'pineapple': 21,\n",
              " 'rice': 22,\n",
              " 'soyabean': 23,\n",
              " 'sugarcane': 24,\n",
              " 'sunflower': 25,\n",
              " 'tea': 26,\n",
              " 'tomato': 27,\n",
              " 'vigna-radiati(Mung)': 28,\n",
              " 'wheat': 29}"
            ]
          },
          "metadata": {},
          "execution_count": 11
        }
      ]
    },
    {
      "cell_type": "markdown",
      "source": [
        "# Transfer Learning\n",
        "Here i took pretrained vgg16 with imagenet weights and removed the last layer"
      ],
      "metadata": {
        "id": "600vz51XHmui"
      }
    },
    {
      "cell_type": "code",
      "source": [
        "vgg = VGG16(include_top = False, weights = 'imagenet',input_shape=[196,196,3])"
      ],
      "metadata": {
        "colab": {
          "base_uri": "https://localhost:8080/"
        },
        "id": "z8CF7boDyvye",
        "outputId": "edd2989f-acdf-4202-f3e9-bfad50bedc90"
      },
      "execution_count": 4,
      "outputs": [
        {
          "output_type": "stream",
          "name": "stdout",
          "text": [
            "Downloading data from https://storage.googleapis.com/tensorflow/keras-applications/vgg16/vgg16_weights_tf_dim_ordering_tf_kernels_notop.h5\n",
            "58889256/58889256 [==============================] - 0s 0us/step\n"
          ]
        }
      ]
    },
    {
      "cell_type": "code",
      "source": [
        "for layer in vgg.layers:\n",
        "  layer.trainable = False"
      ],
      "metadata": {
        "id": "McVATfTiyyIb"
      },
      "execution_count": 5,
      "outputs": []
    },
    {
      "cell_type": "code",
      "source": [
        "x = Flatten()(vgg.output)\n",
        "prediction = Dense(128, activation = 'relu')(x)\n",
        "prediction = Dropout(0.3)(prediction)\n",
        "prediction = Dense(30,activation='softmax')(prediction)"
      ],
      "metadata": {
        "id": "d2NQG2USyzm2"
      },
      "execution_count": 6,
      "outputs": []
    },
    {
      "cell_type": "code",
      "source": [
        "vgg_model = Model(inputs = vgg.input , outputs = prediction)"
      ],
      "metadata": {
        "id": "C0fzJiCly1QY"
      },
      "execution_count": 7,
      "outputs": []
    },
    {
      "cell_type": "code",
      "source": [
        "vgg_model.summary()"
      ],
      "metadata": {
        "colab": {
          "base_uri": "https://localhost:8080/"
        },
        "id": "4mMgNnbDy2uF",
        "outputId": "22c14d7d-c2c4-4fb5-ee9f-190049a12976"
      },
      "execution_count": 8,
      "outputs": [
        {
          "output_type": "stream",
          "name": "stdout",
          "text": [
            "Model: \"model\"\n",
            "_________________________________________________________________\n",
            " Layer (type)                Output Shape              Param #   \n",
            "=================================================================\n",
            " input_1 (InputLayer)        [(None, 196, 196, 3)]     0         \n",
            "                                                                 \n",
            " block1_conv1 (Conv2D)       (None, 196, 196, 64)      1792      \n",
            "                                                                 \n",
            " block1_conv2 (Conv2D)       (None, 196, 196, 64)      36928     \n",
            "                                                                 \n",
            " block1_pool (MaxPooling2D)  (None, 98, 98, 64)        0         \n",
            "                                                                 \n",
            " block2_conv1 (Conv2D)       (None, 98, 98, 128)       73856     \n",
            "                                                                 \n",
            " block2_conv2 (Conv2D)       (None, 98, 98, 128)       147584    \n",
            "                                                                 \n",
            " block2_pool (MaxPooling2D)  (None, 49, 49, 128)       0         \n",
            "                                                                 \n",
            " block3_conv1 (Conv2D)       (None, 49, 49, 256)       295168    \n",
            "                                                                 \n",
            " block3_conv2 (Conv2D)       (None, 49, 49, 256)       590080    \n",
            "                                                                 \n",
            " block3_conv3 (Conv2D)       (None, 49, 49, 256)       590080    \n",
            "                                                                 \n",
            " block3_pool (MaxPooling2D)  (None, 24, 24, 256)       0         \n",
            "                                                                 \n",
            " block4_conv1 (Conv2D)       (None, 24, 24, 512)       1180160   \n",
            "                                                                 \n",
            " block4_conv2 (Conv2D)       (None, 24, 24, 512)       2359808   \n",
            "                                                                 \n",
            " block4_conv3 (Conv2D)       (None, 24, 24, 512)       2359808   \n",
            "                                                                 \n",
            " block4_pool (MaxPooling2D)  (None, 12, 12, 512)       0         \n",
            "                                                                 \n",
            " block5_conv1 (Conv2D)       (None, 12, 12, 512)       2359808   \n",
            "                                                                 \n",
            " block5_conv2 (Conv2D)       (None, 12, 12, 512)       2359808   \n",
            "                                                                 \n",
            " block5_conv3 (Conv2D)       (None, 12, 12, 512)       2359808   \n",
            "                                                                 \n",
            " block5_pool (MaxPooling2D)  (None, 6, 6, 512)         0         \n",
            "                                                                 \n",
            " flatten (Flatten)           (None, 18432)             0         \n",
            "                                                                 \n",
            " dense (Dense)               (None, 128)               2359424   \n",
            "                                                                 \n",
            " dropout (Dropout)           (None, 128)               0         \n",
            "                                                                 \n",
            " dense_1 (Dense)             (None, 30)                3870      \n",
            "                                                                 \n",
            "=================================================================\n",
            "Total params: 17,077,982\n",
            "Trainable params: 2,363,294\n",
            "Non-trainable params: 14,714,688\n",
            "_________________________________________________________________\n"
          ]
        }
      ]
    },
    {
      "cell_type": "code",
      "source": [
        "vgg_model.compile(optimizer='adam',\n",
        "              loss='categorical_crossentropy',\n",
        "              metrics=['accuracy'])"
      ],
      "metadata": {
        "id": "mi8A5iFKy4oA"
      },
      "execution_count": 9,
      "outputs": []
    },
    {
      "cell_type": "markdown",
      "source": [
        "# Model Training"
      ],
      "metadata": {
        "id": "en4yddUoH68P"
      }
    },
    {
      "cell_type": "code",
      "source": [
        "vgg_model.fit(\n",
        "    training_data,\n",
        "    steps_per_epoch=len(training_data),\n",
        "    epochs=200,\n",
        "    shuffle = True\n",
        "    )"
      ],
      "metadata": {
        "colab": {
          "base_uri": "https://localhost:8080/"
        },
        "id": "pLBIVVkvy8FM",
        "outputId": "a3412fca-106e-4f2b-f118-cc0c79af72e5"
      },
      "execution_count": 13,
      "outputs": [
        {
          "output_type": "stream",
          "name": "stdout",
          "text": [
            "Epoch 1/200\n",
            "26/26 [==============================] - 195s 8s/step - loss: 3.3492 - accuracy: 0.0856\n",
            "Epoch 2/200\n",
            "26/26 [==============================] - 16s 598ms/step - loss: 3.1256 - accuracy: 0.1255\n",
            "Epoch 3/200\n",
            "26/26 [==============================] - 16s 612ms/step - loss: 2.9742 - accuracy: 0.1641\n",
            "Epoch 4/200\n",
            "26/26 [==============================] - 16s 596ms/step - loss: 2.7789 - accuracy: 0.2147\n",
            "Epoch 5/200\n",
            "26/26 [==============================] - 16s 606ms/step - loss: 2.5610 - accuracy: 0.2690\n",
            "Epoch 6/200\n",
            "26/26 [==============================] - 16s 598ms/step - loss: 2.5538 - accuracy: 0.2654\n",
            "Epoch 7/200\n",
            "26/26 [==============================] - 16s 593ms/step - loss: 2.3665 - accuracy: 0.3100\n",
            "Epoch 8/200\n",
            "26/26 [==============================] - 16s 604ms/step - loss: 2.2749 - accuracy: 0.3281\n",
            "Epoch 9/200\n",
            "26/26 [==============================] - 16s 593ms/step - loss: 2.1696 - accuracy: 0.3607\n",
            "Epoch 10/200\n",
            "26/26 [==============================] - 16s 600ms/step - loss: 2.0753 - accuracy: 0.3776\n",
            "Epoch 11/200\n",
            "26/26 [==============================] - 16s 608ms/step - loss: 2.0459 - accuracy: 0.3824\n",
            "Epoch 12/200\n",
            "26/26 [==============================] - 16s 611ms/step - loss: 2.0516 - accuracy: 0.3848\n",
            "Epoch 13/200\n",
            "26/26 [==============================] - 16s 622ms/step - loss: 1.8861 - accuracy: 0.4391\n",
            "Epoch 14/200\n",
            "26/26 [==============================] - 16s 601ms/step - loss: 1.9157 - accuracy: 0.4331\n",
            "Epoch 15/200\n",
            "26/26 [==============================] - 16s 611ms/step - loss: 1.8650 - accuracy: 0.4524\n",
            "Epoch 16/200\n",
            "26/26 [==============================] - 16s 620ms/step - loss: 1.7924 - accuracy: 0.4548\n",
            "Epoch 17/200\n",
            "26/26 [==============================] - 17s 631ms/step - loss: 1.8413 - accuracy: 0.4548\n",
            "Epoch 18/200\n",
            "26/26 [==============================] - 16s 614ms/step - loss: 1.8358 - accuracy: 0.4331\n",
            "Epoch 19/200\n",
            "26/26 [==============================] - 16s 608ms/step - loss: 1.7269 - accuracy: 0.4765\n",
            "Epoch 20/200\n",
            "26/26 [==============================] - 16s 603ms/step - loss: 1.7748 - accuracy: 0.4632\n",
            "Epoch 21/200\n",
            "26/26 [==============================] - 16s 597ms/step - loss: 1.7056 - accuracy: 0.4620\n",
            "Epoch 22/200\n",
            "26/26 [==============================] - 16s 600ms/step - loss: 1.6322 - accuracy: 0.4910\n",
            "Epoch 23/200\n",
            "26/26 [==============================] - 16s 603ms/step - loss: 1.6250 - accuracy: 0.4946\n",
            "Epoch 24/200\n",
            "26/26 [==============================] - 16s 602ms/step - loss: 1.6564 - accuracy: 0.4801\n",
            "Epoch 25/200\n",
            "26/26 [==============================] - 16s 597ms/step - loss: 1.6244 - accuracy: 0.4994\n",
            "Epoch 26/200\n",
            "26/26 [==============================] - 16s 605ms/step - loss: 1.5419 - accuracy: 0.5259\n",
            "Epoch 27/200\n",
            "26/26 [==============================] - 17s 630ms/step - loss: 1.5334 - accuracy: 0.5211\n",
            "Epoch 28/200\n",
            "26/26 [==============================] - 16s 598ms/step - loss: 1.5285 - accuracy: 0.5356\n",
            "Epoch 29/200\n",
            "26/26 [==============================] - 15s 593ms/step - loss: 1.5103 - accuracy: 0.5332\n",
            "Epoch 30/200\n",
            "26/26 [==============================] - 16s 600ms/step - loss: 1.5064 - accuracy: 0.5247\n",
            "Epoch 31/200\n",
            "26/26 [==============================] - 15s 588ms/step - loss: 1.4927 - accuracy: 0.5320\n",
            "Epoch 32/200\n",
            "26/26 [==============================] - 16s 601ms/step - loss: 1.4387 - accuracy: 0.5585\n",
            "Epoch 33/200\n",
            "26/26 [==============================] - 16s 598ms/step - loss: 1.5102 - accuracy: 0.5344\n",
            "Epoch 34/200\n",
            "26/26 [==============================] - 16s 611ms/step - loss: 1.3837 - accuracy: 0.5923\n",
            "Epoch 35/200\n",
            "26/26 [==============================] - 16s 621ms/step - loss: 1.4789 - accuracy: 0.5308\n",
            "Epoch 36/200\n",
            "26/26 [==============================] - 16s 595ms/step - loss: 1.4028 - accuracy: 0.5694\n",
            "Epoch 37/200\n",
            "26/26 [==============================] - 16s 613ms/step - loss: 1.3875 - accuracy: 0.5778\n",
            "Epoch 38/200\n",
            "26/26 [==============================] - 16s 598ms/step - loss: 1.4109 - accuracy: 0.5633\n",
            "Epoch 39/200\n",
            "26/26 [==============================] - 16s 601ms/step - loss: 1.3661 - accuracy: 0.5742\n",
            "Epoch 40/200\n",
            "26/26 [==============================] - 16s 600ms/step - loss: 1.3683 - accuracy: 0.5609\n",
            "Epoch 41/200\n",
            "26/26 [==============================] - 15s 596ms/step - loss: 1.3621 - accuracy: 0.5561\n",
            "Epoch 42/200\n",
            "26/26 [==============================] - 16s 600ms/step - loss: 1.2677 - accuracy: 0.6188\n",
            "Epoch 43/200\n",
            "26/26 [==============================] - 16s 606ms/step - loss: 1.3947 - accuracy: 0.5802\n",
            "Epoch 44/200\n",
            "26/26 [==============================] - 16s 599ms/step - loss: 1.3345 - accuracy: 0.5838\n",
            "Epoch 45/200\n",
            "26/26 [==============================] - 16s 609ms/step - loss: 1.3315 - accuracy: 0.5718\n",
            "Epoch 46/200\n",
            "26/26 [==============================] - 16s 620ms/step - loss: 1.2845 - accuracy: 0.6031\n",
            "Epoch 47/200\n",
            "26/26 [==============================] - 16s 604ms/step - loss: 1.3132 - accuracy: 0.5718\n",
            "Epoch 48/200\n",
            "26/26 [==============================] - 16s 620ms/step - loss: 1.2376 - accuracy: 0.6164\n",
            "Epoch 49/200\n",
            "26/26 [==============================] - 16s 593ms/step - loss: 1.2710 - accuracy: 0.5959\n",
            "Epoch 50/200\n",
            "26/26 [==============================] - 16s 605ms/step - loss: 1.3091 - accuracy: 0.5850\n",
            "Epoch 51/200\n",
            "26/26 [==============================] - 16s 602ms/step - loss: 1.2318 - accuracy: 0.6200\n",
            "Epoch 52/200\n",
            "26/26 [==============================] - 17s 620ms/step - loss: 1.2532 - accuracy: 0.6068\n",
            "Epoch 53/200\n",
            "26/26 [==============================] - 16s 609ms/step - loss: 1.2255 - accuracy: 0.6019\n",
            "Epoch 54/200\n",
            "26/26 [==============================] - 16s 599ms/step - loss: 1.2148 - accuracy: 0.6200\n",
            "Epoch 55/200\n",
            "26/26 [==============================] - 16s 596ms/step - loss: 1.1921 - accuracy: 0.6381\n",
            "Epoch 56/200\n",
            "26/26 [==============================] - 16s 602ms/step - loss: 1.2356 - accuracy: 0.6200\n",
            "Epoch 57/200\n",
            "26/26 [==============================] - 16s 604ms/step - loss: 1.1473 - accuracy: 0.6212\n",
            "Epoch 58/200\n",
            "26/26 [==============================] - 15s 590ms/step - loss: 1.1790 - accuracy: 0.6333\n",
            "Epoch 59/200\n",
            "26/26 [==============================] - 16s 594ms/step - loss: 1.2268 - accuracy: 0.6007\n",
            "Epoch 60/200\n",
            "26/26 [==============================] - 16s 591ms/step - loss: 1.1917 - accuracy: 0.6381\n",
            "Epoch 61/200\n",
            "26/26 [==============================] - 16s 616ms/step - loss: 1.1640 - accuracy: 0.6357\n",
            "Epoch 62/200\n",
            "26/26 [==============================] - 16s 618ms/step - loss: 1.1075 - accuracy: 0.6647\n",
            "Epoch 63/200\n",
            "26/26 [==============================] - 16s 595ms/step - loss: 1.0909 - accuracy: 0.6550\n",
            "Epoch 64/200\n",
            "26/26 [==============================] - 16s 595ms/step - loss: 1.1627 - accuracy: 0.6526\n",
            "Epoch 65/200\n",
            "26/26 [==============================] - 15s 589ms/step - loss: 1.1179 - accuracy: 0.6261\n",
            "Epoch 66/200\n",
            "26/26 [==============================] - 15s 593ms/step - loss: 1.0782 - accuracy: 0.6417\n",
            "Epoch 67/200\n",
            "26/26 [==============================] - 16s 623ms/step - loss: 1.1543 - accuracy: 0.6333\n",
            "Epoch 68/200\n",
            "26/26 [==============================] - 16s 604ms/step - loss: 1.0737 - accuracy: 0.6647\n",
            "Epoch 69/200\n",
            "26/26 [==============================] - 16s 598ms/step - loss: 1.1694 - accuracy: 0.6188\n",
            "Epoch 70/200\n",
            "26/26 [==============================] - 16s 605ms/step - loss: 1.1750 - accuracy: 0.6007\n",
            "Epoch 71/200\n",
            "26/26 [==============================] - 16s 597ms/step - loss: 1.0295 - accuracy: 0.6562\n",
            "Epoch 72/200\n",
            "26/26 [==============================] - 16s 597ms/step - loss: 1.0926 - accuracy: 0.6647\n",
            "Epoch 73/200\n",
            "26/26 [==============================] - 16s 611ms/step - loss: 1.1301 - accuracy: 0.6393\n",
            "Epoch 74/200\n",
            "26/26 [==============================] - 16s 596ms/step - loss: 1.0781 - accuracy: 0.6441\n",
            "Epoch 75/200\n",
            "26/26 [==============================] - 16s 593ms/step - loss: 1.1429 - accuracy: 0.6273\n",
            "Epoch 76/200\n",
            "26/26 [==============================] - 16s 605ms/step - loss: 1.0456 - accuracy: 0.6574\n",
            "Epoch 77/200\n",
            "26/26 [==============================] - 16s 618ms/step - loss: 1.0384 - accuracy: 0.6598\n",
            "Epoch 78/200\n",
            "26/26 [==============================] - 15s 592ms/step - loss: 1.1065 - accuracy: 0.6429\n",
            "Epoch 79/200\n",
            "26/26 [==============================] - 16s 598ms/step - loss: 1.0749 - accuracy: 0.6574\n",
            "Epoch 80/200\n",
            "26/26 [==============================] - 16s 605ms/step - loss: 1.0165 - accuracy: 0.6586\n",
            "Epoch 81/200\n",
            "26/26 [==============================] - 16s 621ms/step - loss: 1.0308 - accuracy: 0.6610\n",
            "Epoch 82/200\n",
            "26/26 [==============================] - 16s 612ms/step - loss: 1.0561 - accuracy: 0.6598\n",
            "Epoch 83/200\n",
            "26/26 [==============================] - 16s 604ms/step - loss: 1.0334 - accuracy: 0.6671\n",
            "Epoch 84/200\n",
            "26/26 [==============================] - 16s 608ms/step - loss: 0.9904 - accuracy: 0.6755\n",
            "Epoch 85/200\n",
            "26/26 [==============================] - 16s 598ms/step - loss: 1.0536 - accuracy: 0.6610\n",
            "Epoch 86/200\n",
            "26/26 [==============================] - 16s 599ms/step - loss: 1.0383 - accuracy: 0.6622\n",
            "Epoch 87/200\n",
            "26/26 [==============================] - 16s 617ms/step - loss: 1.0070 - accuracy: 0.6671\n",
            "Epoch 88/200\n",
            "26/26 [==============================] - 16s 598ms/step - loss: 1.0077 - accuracy: 0.6731\n",
            "Epoch 89/200\n",
            "26/26 [==============================] - 16s 611ms/step - loss: 1.0413 - accuracy: 0.6659\n",
            "Epoch 90/200\n",
            "26/26 [==============================] - 16s 623ms/step - loss: 0.9954 - accuracy: 0.6659\n",
            "Epoch 91/200\n",
            "26/26 [==============================] - 17s 636ms/step - loss: 0.9502 - accuracy: 0.7069\n",
            "Epoch 92/200\n",
            "26/26 [==============================] - 16s 614ms/step - loss: 1.0668 - accuracy: 0.6466\n",
            "Epoch 93/200\n",
            "26/26 [==============================] - 16s 602ms/step - loss: 1.0171 - accuracy: 0.6514\n",
            "Epoch 94/200\n",
            "26/26 [==============================] - 17s 646ms/step - loss: 0.9567 - accuracy: 0.6828\n",
            "Epoch 95/200\n",
            "26/26 [==============================] - 16s 615ms/step - loss: 0.9375 - accuracy: 0.6936\n",
            "Epoch 96/200\n",
            "26/26 [==============================] - 16s 606ms/step - loss: 1.0335 - accuracy: 0.6454\n",
            "Epoch 97/200\n",
            "26/26 [==============================] - 16s 609ms/step - loss: 0.9496 - accuracy: 0.6972\n",
            "Epoch 98/200\n",
            "26/26 [==============================] - 16s 628ms/step - loss: 1.0400 - accuracy: 0.6610\n",
            "Epoch 99/200\n",
            "26/26 [==============================] - 17s 640ms/step - loss: 1.0893 - accuracy: 0.6345\n",
            "Epoch 100/200\n",
            "26/26 [==============================] - 16s 613ms/step - loss: 0.9980 - accuracy: 0.6562\n",
            "Epoch 101/200\n",
            "26/26 [==============================] - 16s 606ms/step - loss: 0.9434 - accuracy: 0.7081\n",
            "Epoch 102/200\n",
            "26/26 [==============================] - 16s 607ms/step - loss: 0.9668 - accuracy: 0.6731\n",
            "Epoch 103/200\n",
            "26/26 [==============================] - 16s 606ms/step - loss: 0.9329 - accuracy: 0.6912\n",
            "Epoch 104/200\n",
            "26/26 [==============================] - 16s 606ms/step - loss: 1.0104 - accuracy: 0.6731\n",
            "Epoch 105/200\n",
            "26/26 [==============================] - 16s 608ms/step - loss: 0.9219 - accuracy: 0.6948\n",
            "Epoch 106/200\n",
            "26/26 [==============================] - 17s 634ms/step - loss: 0.9738 - accuracy: 0.6683\n",
            "Epoch 107/200\n",
            "26/26 [==============================] - 16s 619ms/step - loss: 0.9582 - accuracy: 0.6803\n",
            "Epoch 108/200\n",
            "26/26 [==============================] - 16s 611ms/step - loss: 0.9124 - accuracy: 0.7069\n",
            "Epoch 109/200\n",
            "26/26 [==============================] - 16s 610ms/step - loss: 0.9487 - accuracy: 0.6912\n",
            "Epoch 110/200\n",
            "26/26 [==============================] - 16s 607ms/step - loss: 0.8637 - accuracy: 0.7141\n",
            "Epoch 111/200\n",
            "26/26 [==============================] - 16s 623ms/step - loss: 0.8716 - accuracy: 0.7045\n",
            "Epoch 112/200\n",
            "26/26 [==============================] - 16s 605ms/step - loss: 0.9286 - accuracy: 0.6948\n",
            "Epoch 113/200\n",
            "26/26 [==============================] - 16s 601ms/step - loss: 0.9429 - accuracy: 0.6912\n",
            "Epoch 114/200\n",
            "26/26 [==============================] - 16s 601ms/step - loss: 0.9478 - accuracy: 0.6852\n",
            "Epoch 115/200\n",
            "26/26 [==============================] - 16s 605ms/step - loss: 0.9636 - accuracy: 0.6755\n",
            "Epoch 116/200\n",
            "26/26 [==============================] - 16s 600ms/step - loss: 0.9374 - accuracy: 0.6767\n",
            "Epoch 117/200\n",
            "26/26 [==============================] - 16s 596ms/step - loss: 0.9778 - accuracy: 0.6876\n",
            "Epoch 118/200\n",
            "26/26 [==============================] - 16s 631ms/step - loss: 0.8666 - accuracy: 0.7057\n",
            "Epoch 119/200\n",
            "26/26 [==============================] - 16s 609ms/step - loss: 0.9763 - accuracy: 0.6852\n",
            "Epoch 120/200\n",
            "26/26 [==============================] - 16s 599ms/step - loss: 0.9356 - accuracy: 0.6960\n",
            "Epoch 121/200\n",
            "26/26 [==============================] - 16s 599ms/step - loss: 1.0517 - accuracy: 0.6369\n",
            "Epoch 122/200\n",
            "26/26 [==============================] - 16s 621ms/step - loss: 0.9062 - accuracy: 0.6972\n",
            "Epoch 123/200\n",
            "26/26 [==============================] - 16s 588ms/step - loss: 0.9004 - accuracy: 0.6936\n",
            "Epoch 124/200\n",
            "26/26 [==============================] - 16s 622ms/step - loss: 0.9828 - accuracy: 0.6707\n",
            "Epoch 125/200\n",
            "26/26 [==============================] - 16s 604ms/step - loss: 0.9402 - accuracy: 0.6852\n",
            "Epoch 126/200\n",
            "26/26 [==============================] - 16s 617ms/step - loss: 0.8378 - accuracy: 0.7177\n",
            "Epoch 127/200\n",
            "26/26 [==============================] - 16s 594ms/step - loss: 0.9075 - accuracy: 0.7081\n",
            "Epoch 128/200\n",
            "26/26 [==============================] - 16s 596ms/step - loss: 0.9286 - accuracy: 0.6972\n",
            "Epoch 129/200\n",
            "26/26 [==============================] - 16s 599ms/step - loss: 0.8976 - accuracy: 0.7008\n",
            "Epoch 130/200\n",
            "26/26 [==============================] - 16s 601ms/step - loss: 0.9116 - accuracy: 0.6972\n",
            "Epoch 131/200\n",
            "26/26 [==============================] - 16s 604ms/step - loss: 0.8871 - accuracy: 0.6936\n",
            "Epoch 132/200\n",
            "26/26 [==============================] - 17s 619ms/step - loss: 0.9008 - accuracy: 0.6948\n",
            "Epoch 133/200\n",
            "26/26 [==============================] - 15s 591ms/step - loss: 0.9330 - accuracy: 0.6803\n",
            "Epoch 134/200\n",
            "26/26 [==============================] - 16s 599ms/step - loss: 0.9030 - accuracy: 0.6888\n",
            "Epoch 135/200\n",
            "26/26 [==============================] - 16s 600ms/step - loss: 0.9073 - accuracy: 0.6840\n",
            "Epoch 136/200\n",
            "26/26 [==============================] - 16s 595ms/step - loss: 0.8919 - accuracy: 0.6755\n",
            "Epoch 137/200\n",
            "26/26 [==============================] - 16s 598ms/step - loss: 0.9242 - accuracy: 0.7069\n",
            "Epoch 138/200\n",
            "26/26 [==============================] - 16s 619ms/step - loss: 0.8913 - accuracy: 0.6972\n",
            "Epoch 139/200\n",
            "26/26 [==============================] - 16s 596ms/step - loss: 0.9496 - accuracy: 0.6984\n",
            "Epoch 140/200\n",
            "26/26 [==============================] - 16s 608ms/step - loss: 0.9277 - accuracy: 0.6936\n",
            "Epoch 141/200\n",
            "26/26 [==============================] - 16s 597ms/step - loss: 0.9672 - accuracy: 0.6900\n",
            "Epoch 142/200\n",
            "26/26 [==============================] - 16s 598ms/step - loss: 0.8272 - accuracy: 0.7310\n",
            "Epoch 143/200\n",
            "26/26 [==============================] - 15s 591ms/step - loss: 0.8496 - accuracy: 0.7045\n",
            "Epoch 144/200\n",
            "26/26 [==============================] - 16s 595ms/step - loss: 0.8809 - accuracy: 0.7226\n",
            "Epoch 145/200\n",
            "26/26 [==============================] - 15s 596ms/step - loss: 0.8291 - accuracy: 0.7141\n",
            "Epoch 146/200\n",
            "26/26 [==============================] - 16s 601ms/step - loss: 0.8456 - accuracy: 0.7250\n",
            "Epoch 147/200\n",
            "26/26 [==============================] - 16s 604ms/step - loss: 0.8880 - accuracy: 0.7141\n",
            "Epoch 148/200\n",
            "26/26 [==============================] - 16s 596ms/step - loss: 0.8859 - accuracy: 0.7153\n",
            "Epoch 149/200\n",
            "26/26 [==============================] - 16s 598ms/step - loss: 0.7456 - accuracy: 0.7431\n",
            "Epoch 150/200\n",
            "26/26 [==============================] - 15s 596ms/step - loss: 0.8447 - accuracy: 0.7201\n",
            "Epoch 151/200\n",
            "26/26 [==============================] - 16s 607ms/step - loss: 0.8293 - accuracy: 0.7177\n",
            "Epoch 152/200\n",
            "26/26 [==============================] - 16s 607ms/step - loss: 0.8456 - accuracy: 0.7250\n",
            "Epoch 153/200\n",
            "26/26 [==============================] - 16s 600ms/step - loss: 0.8803 - accuracy: 0.7033\n",
            "Epoch 154/200\n",
            "26/26 [==============================] - 16s 596ms/step - loss: 0.9144 - accuracy: 0.6924\n",
            "Epoch 155/200\n",
            "26/26 [==============================] - 16s 601ms/step - loss: 0.8688 - accuracy: 0.7057\n",
            "Epoch 156/200\n",
            "26/26 [==============================] - 16s 612ms/step - loss: 0.8121 - accuracy: 0.7238\n",
            "Epoch 157/200\n",
            "26/26 [==============================] - 15s 591ms/step - loss: 0.7696 - accuracy: 0.7286\n",
            "Epoch 158/200\n",
            "26/26 [==============================] - 16s 609ms/step - loss: 0.8541 - accuracy: 0.7298\n",
            "Epoch 159/200\n",
            "26/26 [==============================] - 16s 596ms/step - loss: 0.7845 - accuracy: 0.7431\n",
            "Epoch 160/200\n",
            "26/26 [==============================] - 16s 600ms/step - loss: 0.8311 - accuracy: 0.7117\n",
            "Epoch 161/200\n",
            "26/26 [==============================] - 16s 619ms/step - loss: 0.8589 - accuracy: 0.7165\n",
            "Epoch 162/200\n",
            "26/26 [==============================] - 16s 601ms/step - loss: 0.8403 - accuracy: 0.7189\n",
            "Epoch 163/200\n",
            "26/26 [==============================] - 15s 595ms/step - loss: 0.8580 - accuracy: 0.6960\n",
            "Epoch 164/200\n",
            "26/26 [==============================] - 16s 594ms/step - loss: 0.8288 - accuracy: 0.7274\n",
            "Epoch 165/200\n",
            "26/26 [==============================] - 16s 616ms/step - loss: 0.7685 - accuracy: 0.7394\n",
            "Epoch 166/200\n",
            "26/26 [==============================] - 16s 603ms/step - loss: 0.8187 - accuracy: 0.7274\n",
            "Epoch 167/200\n",
            "26/26 [==============================] - 16s 593ms/step - loss: 0.8023 - accuracy: 0.7358\n",
            "Epoch 168/200\n",
            "26/26 [==============================] - 16s 600ms/step - loss: 0.8981 - accuracy: 0.7105\n",
            "Epoch 169/200\n",
            "26/26 [==============================] - 16s 604ms/step - loss: 0.8216 - accuracy: 0.7189\n",
            "Epoch 170/200\n",
            "26/26 [==============================] - 16s 600ms/step - loss: 0.8326 - accuracy: 0.7226\n",
            "Epoch 171/200\n",
            "26/26 [==============================] - 16s 599ms/step - loss: 0.7828 - accuracy: 0.7624\n",
            "Epoch 172/200\n",
            "26/26 [==============================] - 16s 623ms/step - loss: 0.8119 - accuracy: 0.7250\n",
            "Epoch 173/200\n",
            "26/26 [==============================] - 16s 597ms/step - loss: 0.8070 - accuracy: 0.7262\n",
            "Epoch 174/200\n",
            "26/26 [==============================] - 15s 584ms/step - loss: 0.8568 - accuracy: 0.7069\n",
            "Epoch 175/200\n",
            "26/26 [==============================] - 16s 596ms/step - loss: 0.8309 - accuracy: 0.7322\n",
            "Epoch 176/200\n",
            "26/26 [==============================] - 16s 597ms/step - loss: 0.8276 - accuracy: 0.7226\n",
            "Epoch 177/200\n",
            "26/26 [==============================] - 16s 603ms/step - loss: 0.8217 - accuracy: 0.7382\n",
            "Epoch 178/200\n",
            "26/26 [==============================] - 16s 599ms/step - loss: 0.7974 - accuracy: 0.7322\n",
            "Epoch 179/200\n",
            "26/26 [==============================] - 16s 598ms/step - loss: 0.8082 - accuracy: 0.7286\n",
            "Epoch 180/200\n",
            "26/26 [==============================] - 15s 584ms/step - loss: 0.7728 - accuracy: 0.7515\n",
            "Epoch 181/200\n",
            "26/26 [==============================] - 16s 602ms/step - loss: 0.8253 - accuracy: 0.7286\n",
            "Epoch 182/200\n",
            "26/26 [==============================] - 16s 607ms/step - loss: 0.7414 - accuracy: 0.7394\n",
            "Epoch 183/200\n",
            "26/26 [==============================] - 16s 601ms/step - loss: 0.8506 - accuracy: 0.7214\n",
            "Epoch 184/200\n",
            "26/26 [==============================] - 16s 630ms/step - loss: 0.8483 - accuracy: 0.7250\n",
            "Epoch 185/200\n",
            "26/26 [==============================] - 15s 592ms/step - loss: 0.8545 - accuracy: 0.7262\n",
            "Epoch 186/200\n",
            "26/26 [==============================] - 16s 601ms/step - loss: 0.8512 - accuracy: 0.7045\n",
            "Epoch 187/200\n",
            "26/26 [==============================] - 16s 607ms/step - loss: 0.8073 - accuracy: 0.7238\n",
            "Epoch 188/200\n",
            "26/26 [==============================] - 16s 612ms/step - loss: 0.8326 - accuracy: 0.7093\n",
            "Epoch 189/200\n",
            "26/26 [==============================] - 16s 594ms/step - loss: 0.7971 - accuracy: 0.7419\n",
            "Epoch 190/200\n",
            "26/26 [==============================] - 16s 602ms/step - loss: 0.8131 - accuracy: 0.7298\n",
            "Epoch 191/200\n",
            "26/26 [==============================] - 16s 601ms/step - loss: 0.8749 - accuracy: 0.6960\n",
            "Epoch 192/200\n",
            "26/26 [==============================] - 16s 621ms/step - loss: 0.7196 - accuracy: 0.7575\n",
            "Epoch 193/200\n",
            "26/26 [==============================] - 16s 618ms/step - loss: 0.7566 - accuracy: 0.7443\n",
            "Epoch 194/200\n",
            "26/26 [==============================] - 16s 606ms/step - loss: 0.7844 - accuracy: 0.7310\n",
            "Epoch 195/200\n",
            "26/26 [==============================] - 16s 615ms/step - loss: 0.8000 - accuracy: 0.7153\n",
            "Epoch 196/200\n",
            "26/26 [==============================] - 17s 641ms/step - loss: 0.7260 - accuracy: 0.7539\n",
            "Epoch 197/200\n",
            "26/26 [==============================] - 16s 599ms/step - loss: 0.7234 - accuracy: 0.7467\n",
            "Epoch 198/200\n",
            "26/26 [==============================] - 16s 590ms/step - loss: 0.7786 - accuracy: 0.7419\n",
            "Epoch 199/200\n",
            "26/26 [==============================] - 19s 722ms/step - loss: 0.8019 - accuracy: 0.7382\n",
            "Epoch 200/200\n",
            "26/26 [==============================] - 18s 688ms/step - loss: 0.8386 - accuracy: 0.7431\n"
          ]
        },
        {
          "output_type": "execute_result",
          "data": {
            "text/plain": [
              "<keras.callbacks.History at 0x7fc700df41c0>"
            ]
          },
          "metadata": {},
          "execution_count": 13
        }
      ]
    },
    {
      "cell_type": "code",
      "source": [
        "vgg_model.save('vgg.h5')"
      ],
      "metadata": {
        "id": "Ko_-EXf63ZYp"
      },
      "execution_count": 14,
      "outputs": []
    },
    {
      "cell_type": "markdown",
      "source": [
        "# Testing"
      ],
      "metadata": {
        "id": "UeJgRzg2H-37"
      }
    },
    {
      "cell_type": "code",
      "source": [
        "test_data_gen = ImageDataGenerator(\n",
        "    rescale=1./255,  \n",
        "    validation_split=0.1,\n",
        ")"
      ],
      "metadata": {
        "id": "y30VVskA3fmg"
      },
      "execution_count": 15,
      "outputs": []
    },
    {
      "cell_type": "code",
      "source": [
        "test_data = test_data_gen.flow_from_directory(\"/content/drive/MyDrive/Agricultural-crops\",\n",
        "                                             target_size=(196, 196),\n",
        "                                              batch_size=32,\n",
        "                                              class_mode = \"categorical\",\n",
        "                                              subset = 'validation'\n",
        "                                              )"
      ],
      "metadata": {
        "colab": {
          "base_uri": "https://localhost:8080/"
        },
        "id": "jVlXDUvQFQL7",
        "outputId": "161e6ba7-83b8-4b3d-dfd2-7073c784db75"
      },
      "execution_count": 23,
      "outputs": [
        {
          "output_type": "stream",
          "name": "stdout",
          "text": [
            "Found 72 images belonging to 30 classes.\n"
          ]
        }
      ]
    },
    {
      "cell_type": "code",
      "source": [
        "predictions = vgg_model.predict_generator(test_data)\n"
      ],
      "metadata": {
        "colab": {
          "base_uri": "https://localhost:8080/"
        },
        "id": "pkPTIqnWFdVf",
        "outputId": "13e1890c-69e6-4e25-8d76-450baea437f4"
      },
      "execution_count": 24,
      "outputs": [
        {
          "output_type": "stream",
          "name": "stderr",
          "text": [
            "<ipython-input-24-2b69a194f323>:1: UserWarning: `Model.predict_generator` is deprecated and will be removed in a future version. Please use `Model.predict`, which supports generators.\n",
            "  predictions = vgg_model.predict_generator(test_data)\n"
          ]
        }
      ]
    },
    {
      "cell_type": "code",
      "source": [
        "cm = confusion_matrix(test_data.classes, np.argmax(predictions, axis=1))\n",
        "print(\"Confusion Matrix:\")\n",
        "print(cm)"
      ],
      "metadata": {
        "colab": {
          "base_uri": "https://localhost:8080/"
        },
        "id": "6qpqTq7xFi2P",
        "outputId": "f7737273-48ed-4f73-99a9-857670ed56b2"
      },
      "execution_count": 25,
      "outputs": [
        {
          "output_type": "stream",
          "name": "stdout",
          "text": [
            "Confusion Matrix:\n",
            "[[0 0 0 0 0 0 0 0 0 0 0 0 0 0 0 0 0 0 0 0 0 0 0 1 0 0 1 0 1 0]\n",
            " [0 0 0 1 0 0 0 0 0 0 0 0 0 0 0 0 0 0 0 1 0 0 0 0 0 0 0 0 0 0]\n",
            " [0 0 0 0 0 0 0 0 0 1 0 0 0 0 0 0 0 0 0 0 1 0 1 0 0 0 0 0 0 0]\n",
            " [0 0 0 0 0 0 0 0 0 1 0 0 0 0 0 0 0 0 0 0 0 1 0 0 0 0 0 0 0 0]\n",
            " [0 0 0 1 0 0 0 0 0 0 0 0 1 0 0 0 0 0 0 0 0 0 0 0 0 0 0 0 0 0]\n",
            " [0 0 0 0 0 0 0 0 0 0 0 0 0 0 0 0 0 0 0 0 0 0 1 1 0 0 0 0 1 0]\n",
            " [0 0 0 0 0 0 0 0 0 1 0 0 0 0 0 0 0 0 0 0 0 0 1 0 0 0 0 0 0 1]\n",
            " [0 0 0 0 0 0 0 0 0 0 0 0 0 0 0 0 0 0 0 0 0 0 2 0 0 0 1 0 0 0]\n",
            " [0 0 0 0 0 0 0 1 0 0 0 0 0 0 1 0 0 0 0 0 0 0 0 0 0 0 0 0 0 0]\n",
            " [0 0 0 0 1 0 0 0 0 1 0 0 0 0 0 0 0 0 0 0 0 0 0 0 0 0 0 0 1 0]\n",
            " [0 0 0 0 0 1 0 0 0 0 0 0 0 0 1 0 0 0 0 0 0 0 0 0 0 0 0 0 0 0]\n",
            " [0 0 0 0 0 0 0 0 0 0 0 0 0 0 0 0 0 1 0 0 0 0 0 0 1 0 0 0 0 0]\n",
            " [0 0 0 0 0 0 0 0 0 1 0 0 0 0 0 0 0 0 1 0 0 0 1 0 0 0 0 0 0 0]\n",
            " [0 1 0 0 0 0 0 0 0 0 0 0 0 0 0 0 1 0 0 0 0 0 0 0 0 0 0 0 0 0]\n",
            " [0 0 0 0 1 0 0 1 1 0 0 0 0 0 0 0 0 0 0 0 0 0 0 0 0 0 0 0 0 0]\n",
            " [0 0 1 0 0 0 0 1 0 0 0 0 0 0 0 0 0 0 0 0 0 0 0 0 0 0 0 0 0 0]\n",
            " [0 0 0 0 0 0 0 0 0 0 0 0 0 0 0 0 0 0 1 0 0 0 0 0 0 0 0 0 0 2]\n",
            " [0 0 1 0 0 0 0 0 0 0 0 0 0 1 0 0 0 0 0 0 0 0 0 0 0 0 0 0 0 0]\n",
            " [0 0 0 0 0 0 0 0 0 0 0 0 0 1 0 0 0 0 0 0 0 0 1 0 0 0 0 0 0 1]\n",
            " [0 0 0 1 0 0 0 0 0 0 0 0 0 0 0 0 0 0 1 0 0 0 0 0 0 0 0 0 0 0]\n",
            " [0 0 0 0 0 1 0 0 0 0 0 0 0 0 0 0 0 0 0 0 0 0 0 0 0 0 1 0 0 0]\n",
            " [0 0 0 0 0 0 0 0 0 0 0 0 0 0 0 0 0 0 0 0 0 0 1 1 0 0 0 0 0 0]\n",
            " [0 0 0 0 0 0 1 0 0 0 0 0 0 0 0 0 0 0 0 1 0 0 0 0 0 0 0 0 0 0]\n",
            " [0 0 0 0 0 0 0 0 0 0 0 0 0 1 0 0 0 0 0 1 0 0 0 0 0 0 0 0 0 1]\n",
            " [0 0 0 0 0 0 1 1 0 0 0 0 0 0 0 0 0 0 0 0 0 0 0 0 0 0 0 0 0 0]\n",
            " [0 0 1 0 0 0 0 0 0 0 0 0 0 0 0 0 0 0 0 0 0 0 0 0 0 1 0 0 0 0]\n",
            " [0 0 0 0 0 0 0 0 0 0 0 0 0 0 0 0 0 0 0 0 0 0 0 0 1 0 1 0 0 0]\n",
            " [0 0 0 0 0 0 0 0 0 1 0 0 0 0 0 0 0 0 0 0 0 0 0 0 1 0 0 0 0 0]\n",
            " [0 0 0 0 0 0 0 0 0 0 0 0 0 0 0 0 0 1 0 0 0 0 1 0 0 0 0 0 0 0]\n",
            " [0 0 0 0 0 0 1 1 0 0 0 0 0 0 1 0 0 0 0 0 0 0 0 0 0 0 0 0 0 0]]\n"
          ]
        }
      ]
    },
    {
      "cell_type": "code",
      "source": [
        "report = classification_report(test_data.classes, np.argmax(predictions, axis=1), target_names=test_data.class_indices.keys())\n",
        "print(\"Classification Report:\")\n",
        "print(report)"
      ],
      "metadata": {
        "colab": {
          "base_uri": "https://localhost:8080/"
        },
        "id": "XKvv5KZeFlF5",
        "outputId": "fbece9ac-48b1-4d7f-f4b6-ed73f077f579"
      },
      "execution_count": 26,
      "outputs": [
        {
          "output_type": "stream",
          "name": "stdout",
          "text": [
            "Classification Report:\n",
            "                     precision    recall  f1-score   support\n",
            "\n",
            "             Cherry       0.00      0.00      0.00         3\n",
            "       Coffee-plant       0.00      0.00      0.00         2\n",
            "           Cucumber       0.00      0.00      0.00         3\n",
            "   Fox_nut(Makhana)       0.00      0.00      0.00         2\n",
            "              Lemon       0.00      0.00      0.00         2\n",
            "         Olive-tree       0.00      0.00      0.00         3\n",
            "Pearl_millet(bajra)       0.00      0.00      0.00         3\n",
            "      Tobacco-plant       0.00      0.00      0.00         3\n",
            "             almond       0.00      0.00      0.00         2\n",
            "             banana       0.17      0.33      0.22         3\n",
            "           cardamom       0.00      0.00      0.00         2\n",
            "             chilli       0.00      0.00      0.00         2\n",
            "              clove       0.00      0.00      0.00         3\n",
            "            coconut       0.00      0.00      0.00         2\n",
            "             cotton       0.00      0.00      0.00         3\n",
            "               gram       0.00      0.00      0.00         2\n",
            "              jowar       0.00      0.00      0.00         3\n",
            "               jute       0.00      0.00      0.00         2\n",
            "              maize       0.00      0.00      0.00         3\n",
            "        mustard-oil       0.00      0.00      0.00         2\n",
            "             papaya       0.00      0.00      0.00         2\n",
            "          pineapple       0.00      0.00      0.00         2\n",
            "               rice       0.00      0.00      0.00         2\n",
            "           soyabean       0.00      0.00      0.00         3\n",
            "          sugarcane       0.00      0.00      0.00         2\n",
            "          sunflower       1.00      0.50      0.67         2\n",
            "                tea       0.25      0.50      0.33         2\n",
            "             tomato       0.00      0.00      0.00         2\n",
            "vigna-radiati(Mung)       0.00      0.00      0.00         2\n",
            "              wheat       0.00      0.00      0.00         3\n",
            "\n",
            "           accuracy                           0.04        72\n",
            "          macro avg       0.05      0.04      0.04        72\n",
            "       weighted avg       0.04      0.04      0.04        72\n",
            "\n"
          ]
        },
        {
          "output_type": "stream",
          "name": "stderr",
          "text": [
            "/usr/local/lib/python3.9/dist-packages/sklearn/metrics/_classification.py:1344: UndefinedMetricWarning: Precision and F-score are ill-defined and being set to 0.0 in labels with no predicted samples. Use `zero_division` parameter to control this behavior.\n",
            "  _warn_prf(average, modifier, msg_start, len(result))\n",
            "/usr/local/lib/python3.9/dist-packages/sklearn/metrics/_classification.py:1344: UndefinedMetricWarning: Precision and F-score are ill-defined and being set to 0.0 in labels with no predicted samples. Use `zero_division` parameter to control this behavior.\n",
            "  _warn_prf(average, modifier, msg_start, len(result))\n",
            "/usr/local/lib/python3.9/dist-packages/sklearn/metrics/_classification.py:1344: UndefinedMetricWarning: Precision and F-score are ill-defined and being set to 0.0 in labels with no predicted samples. Use `zero_division` parameter to control this behavior.\n",
            "  _warn_prf(average, modifier, msg_start, len(result))\n"
          ]
        }
      ]
    },
    {
      "cell_type": "code",
      "source": [],
      "metadata": {
        "id": "sfuKWRrWFosk"
      },
      "execution_count": null,
      "outputs": []
    }
  ]
}